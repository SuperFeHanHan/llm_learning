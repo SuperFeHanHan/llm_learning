{
 "cells": [
  {
   "cell_type": "markdown",
   "metadata": {},
   "source": [
    "####  可视化训练之后的效果"
   ]
  },
  {
   "cell_type": "code",
   "execution_count": 3,
   "metadata": {},
   "outputs": [],
   "source": [
    "import torch\n",
    "from model import SiglipConfig, SiglipModel\n",
    "\n",
    "device = torch.device(\"cuda\" if torch.cuda.is_available() else \"cpu\")"
   ]
  },
  {
   "cell_type": "code",
   "execution_count": 4,
   "metadata": {},
   "outputs": [
    {
     "name": "stderr",
     "output_type": "stream",
     "text": [
      "Some weights of ViTModel were not initialized from the model checkpoint at google/vit-base-patch16-224 and are newly initialized: ['vit.pooler.dense.bias', 'vit.pooler.dense.weight']\n",
      "You should probably TRAIN this model on a down-stream task to be able to use it for predictions and inference.\n",
      "Fast image processor class <class 'transformers.models.vit.image_processing_vit_fast.ViTImageProcessorFast'> is available for this model. Using slow image processor class. To use the fast image processor class set `use_fast=True`.\n"
     ]
    },
    {
     "name": "stdout",
     "output_type": "stream",
     "text": [
      "{'logits_per_image': tensor([[-2.3850, -2.3850],\n",
      "        [-2.3850, -2.3850]], device='cuda:0'),\n",
      " 'texts': ['图中有只狗', '图中有只猫']}\n",
      "imgs/cat.jpg: pred = 图中有只狗\n",
      "imgs/dog.jpg: pred = 图中有只猫\n"
     ]
    }
   ],
   "source": [
    "from pprint import pprint\n",
    "\n",
    "model_path = \"outputs/run_2025-03-30_17-08-53/checkpoint-4000\"\n",
    "model = SiglipModel.from_pretrained(model_path)\n",
    "model.to(device)\n",
    "\n",
    "images = [\"imgs/cat.jpg\", \"imgs/dog.jpg\"]\n",
    "texts = [\"图中有只猫\", \"图中有只狗\"]\n",
    "res = model.predict(texts, images)\n",
    "pprint(res)\n",
    "\n",
    "for image,pred in zip(images, res[\"texts\"]):\n",
    "    print(f\"{image}: pred = {pred}\")"
   ]
  },
  {
   "cell_type": "code",
   "execution_count": 5,
   "metadata": {},
   "outputs": [
    {
     "name": "stderr",
     "output_type": "stream",
     "text": [
      "Some weights of ViTModel were not initialized from the model checkpoint at google/vit-base-patch16-224 and are newly initialized: ['vit.pooler.dense.bias', 'vit.pooler.dense.weight']\n",
      "You should probably TRAIN this model on a down-stream task to be able to use it for predictions and inference.\n",
      "Fast image processor class <class 'transformers.models.vit.image_processing_vit_fast.ViTImageProcessorFast'> is available for this model. Using slow image processor class. To use the fast image processor class set `use_fast=True`.\n"
     ]
    },
    {
     "name": "stdout",
     "output_type": "stream",
     "text": [
      "{'logits_per_image': tensor([[-3.3079, -3.3079],\n",
      "        [-3.3079, -3.3079]], device='cuda:0'),\n",
      " 'texts': ['图中有只猫', '图中有只猫']}\n",
      "imgs/cat.jpg: pred = 图中有只猫\n",
      "imgs/dog.jpg: pred = 图中有只猫\n"
     ]
    }
   ],
   "source": [
    "from pprint import pprint\n",
    "\n",
    "model_path = \"outputs/run_2025-03-30_17-08-53/checkpoint-11600\"\n",
    "model = SiglipModel.from_pretrained(model_path)\n",
    "model.to(device)\n",
    "\n",
    "images = [\"imgs/cat.jpg\", \"imgs/dog.jpg\"]\n",
    "texts = [\"图中有只猫\", \"图中有只狗\"]\n",
    "res = model.predict(texts, images)\n",
    "pprint(res)\n",
    "\n",
    "for image,pred in zip(images, res[\"texts\"]):\n",
    "    print(f\"{image}: pred = {pred}\")"
   ]
  },
  {
   "cell_type": "code",
   "execution_count": null,
   "metadata": {},
   "outputs": [],
   "source": []
  }
 ],
 "metadata": {
  "kernelspec": {
   "display_name": "llm_learning",
   "language": "python",
   "name": "python3"
  },
  "language_info": {
   "codemirror_mode": {
    "name": "ipython",
    "version": 3
   },
   "file_extension": ".py",
   "mimetype": "text/x-python",
   "name": "python",
   "nbconvert_exporter": "python",
   "pygments_lexer": "ipython3",
   "version": "3.10.16"
  }
 },
 "nbformat": 4,
 "nbformat_minor": 2
}
